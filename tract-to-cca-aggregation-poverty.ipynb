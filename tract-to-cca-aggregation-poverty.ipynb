{
 "cells": [
  {
   "cell_type": "markdown",
   "id": "1e84aec9-0a19-47ff-80e7-9f29e0f67ef5",
   "metadata": {},
   "source": [
    "# Census tract to Chicago community area aggregation by poverty status"
   ]
  },
  {
   "cell_type": "markdown",
   "id": "d949b4b8-a764-4a52-b01a-4fa40decf7c2",
   "metadata": {},
   "source": [
    "<b>Methodology:</b> Similar to race and ethnicity."
   ]
  },
  {
   "cell_type": "code",
   "execution_count": 1,
   "id": "03e7d995-0ded-471a-9f06-eb205723e5d0",
   "metadata": {},
   "outputs": [],
   "source": [
    "# configs\n",
    "import pandas as pd"
   ]
  },
  {
   "cell_type": "markdown",
   "id": "0429ff07-080c-4748-8117-45adc014d931",
   "metadata": {},
   "source": [
    "Downloaded 2023 5-year ACS data for B17001, Poverty Status in the last 12 months, by sex by age, census tract for Cook County"
   ]
  },
  {
   "cell_type": "code",
   "execution_count": 3,
   "id": "5b9fd625-d4e7-409a-9126-7e171160a2db",
   "metadata": {},
   "outputs": [],
   "source": [
    "# load census data\n",
    "acs = pd.read_csv('../census-data/ACSDT5Y2023.B17001_2025-07-11T165950/ACSDT5Y2023.B17001-Data.csv', skiprows=[1],\n",
    "                  header=0,\n",
    "                  usecols=['GEO_ID',\n",
    "                           'B17001_001E', # total\n",
    "                           'B17001_002E',]) # population assessed poverty"
   ]
  },
  {
   "cell_type": "code",
   "execution_count": 4,
   "id": "2ce0bcaf-1794-412e-aebe-21bbc157b4b0",
   "metadata": {},
   "outputs": [
    {
     "data": {
      "text/html": [
       "<div>\n",
       "<style scoped>\n",
       "    .dataframe tbody tr th:only-of-type {\n",
       "        vertical-align: middle;\n",
       "    }\n",
       "\n",
       "    .dataframe tbody tr th {\n",
       "        vertical-align: top;\n",
       "    }\n",
       "\n",
       "    .dataframe thead th {\n",
       "        text-align: right;\n",
       "    }\n",
       "</style>\n",
       "<table border=\"1\" class=\"dataframe\">\n",
       "  <thead>\n",
       "    <tr style=\"text-align: right;\">\n",
       "      <th></th>\n",
       "      <th>GEO_ID</th>\n",
       "      <th>B17001_001E</th>\n",
       "      <th>B17001_002E</th>\n",
       "    </tr>\n",
       "  </thead>\n",
       "  <tbody>\n",
       "    <tr>\n",
       "      <th>0</th>\n",
       "      <td>1400000US17031010100</td>\n",
       "      <td>3627</td>\n",
       "      <td>508</td>\n",
       "    </tr>\n",
       "    <tr>\n",
       "      <th>1</th>\n",
       "      <td>1400000US17031010201</td>\n",
       "      <td>7578</td>\n",
       "      <td>1892</td>\n",
       "    </tr>\n",
       "  </tbody>\n",
       "</table>\n",
       "</div>"
      ],
      "text/plain": [
       "                 GEO_ID  B17001_001E  B17001_002E\n",
       "0  1400000US17031010100         3627          508\n",
       "1  1400000US17031010201         7578         1892"
      ]
     },
     "execution_count": 4,
     "metadata": {},
     "output_type": "execute_result"
    }
   ],
   "source": [
    "acs.head(2)"
   ]
  },
  {
   "cell_type": "code",
   "execution_count": 5,
   "id": "b16d29dd-3ac7-4d7b-8fcb-36814fa15873",
   "metadata": {},
   "outputs": [],
   "source": [
    "# rename cols\n",
    "acs.columns = ['geoid', 'total', 'population_assessed_poverty']"
   ]
  },
  {
   "cell_type": "code",
   "execution_count": 6,
   "id": "5e32e6be-97d0-4529-a078-57a2cb78fe3c",
   "metadata": {},
   "outputs": [],
   "source": [
    "# clean id to match crosswalk tract geoid\n",
    "acs['geoid'] = acs['geoid'].astype(str)\n",
    "acs['geoid_clean'] = acs['geoid'].str.replace('1400000US', '')\n",
    "acs['geoid_clean'] = acs['geoid_clean'].astype(int)"
   ]
  },
  {
   "cell_type": "code",
   "execution_count": 7,
   "id": "ae939fcb-a7e1-4dad-9c54-5895266ef84c",
   "metadata": {},
   "outputs": [],
   "source": [
    "# add pcts \n",
    "acs['pct_poverty'] = acs['population_assessed_poverty']/acs['total']"
   ]
  },
  {
   "cell_type": "code",
   "execution_count": 8,
   "id": "b657ca4d-71eb-4ecd-abd6-0c71c20270af",
   "metadata": {},
   "outputs": [
    {
     "data": {
      "text/html": [
       "<div>\n",
       "<style scoped>\n",
       "    .dataframe tbody tr th:only-of-type {\n",
       "        vertical-align: middle;\n",
       "    }\n",
       "\n",
       "    .dataframe tbody tr th {\n",
       "        vertical-align: top;\n",
       "    }\n",
       "\n",
       "    .dataframe thead th {\n",
       "        text-align: right;\n",
       "    }\n",
       "</style>\n",
       "<table border=\"1\" class=\"dataframe\">\n",
       "  <thead>\n",
       "    <tr style=\"text-align: right;\">\n",
       "      <th></th>\n",
       "      <th>geoid</th>\n",
       "      <th>total</th>\n",
       "      <th>population_assessed_poverty</th>\n",
       "      <th>geoid_clean</th>\n",
       "      <th>pct_poverty</th>\n",
       "    </tr>\n",
       "  </thead>\n",
       "  <tbody>\n",
       "    <tr>\n",
       "      <th>1272</th>\n",
       "      <td>1400000US17031836900</td>\n",
       "      <td>2237</td>\n",
       "      <td>1642</td>\n",
       "      <td>17031836900</td>\n",
       "      <td>0.734019</td>\n",
       "    </tr>\n",
       "    <tr>\n",
       "      <th>424</th>\n",
       "      <td>1400000US17031400800</td>\n",
       "      <td>3384</td>\n",
       "      <td>2418</td>\n",
       "      <td>17031400800</td>\n",
       "      <td>0.714539</td>\n",
       "    </tr>\n",
       "    <tr>\n",
       "      <th>1261</th>\n",
       "      <td>1400000US17031835600</td>\n",
       "      <td>539</td>\n",
       "      <td>376</td>\n",
       "      <td>17031835600</td>\n",
       "      <td>0.697588</td>\n",
       "    </tr>\n",
       "    <tr>\n",
       "      <th>336</th>\n",
       "      <td>1400000US17031260400</td>\n",
       "      <td>1573</td>\n",
       "      <td>1049</td>\n",
       "      <td>17031260400</td>\n",
       "      <td>0.666879</td>\n",
       "    </tr>\n",
       "    <tr>\n",
       "      <th>604</th>\n",
       "      <td>1400000US17031671100</td>\n",
       "      <td>892</td>\n",
       "      <td>578</td>\n",
       "      <td>17031671100</td>\n",
       "      <td>0.647982</td>\n",
       "    </tr>\n",
       "  </tbody>\n",
       "</table>\n",
       "</div>"
      ],
      "text/plain": [
       "                     geoid  total  population_assessed_poverty  geoid_clean  \\\n",
       "1272  1400000US17031836900   2237                         1642  17031836900   \n",
       "424   1400000US17031400800   3384                         2418  17031400800   \n",
       "1261  1400000US17031835600    539                          376  17031835600   \n",
       "336   1400000US17031260400   1573                         1049  17031260400   \n",
       "604   1400000US17031671100    892                          578  17031671100   \n",
       "\n",
       "      pct_poverty  \n",
       "1272     0.734019  \n",
       "424      0.714539  \n",
       "1261     0.697588  \n",
       "336      0.666879  \n",
       "604      0.647982  "
      ]
     },
     "execution_count": 8,
     "metadata": {},
     "output_type": "execute_result"
    }
   ],
   "source": [
    "# inspect\n",
    "acs.sort_values('pct_poverty', ascending=False).head()"
   ]
  },
  {
   "cell_type": "code",
   "execution_count": 9,
   "id": "dc9e2190-5235-41bc-b4ed-684e48e4a5f1",
   "metadata": {},
   "outputs": [
    {
     "data": {
      "text/html": [
       "<div>\n",
       "<style scoped>\n",
       "    .dataframe tbody tr th:only-of-type {\n",
       "        vertical-align: middle;\n",
       "    }\n",
       "\n",
       "    .dataframe tbody tr th {\n",
       "        vertical-align: top;\n",
       "    }\n",
       "\n",
       "    .dataframe thead th {\n",
       "        text-align: right;\n",
       "    }\n",
       "</style>\n",
       "<table border=\"1\" class=\"dataframe\">\n",
       "  <thead>\n",
       "    <tr style=\"text-align: right;\">\n",
       "      <th></th>\n",
       "      <th>TRACT</th>\n",
       "      <th>GEOID</th>\n",
       "      <th>CCA</th>\n",
       "      <th>TR_POP_RAT</th>\n",
       "      <th>TR_HH_RAT</th>\n",
       "      <th>TR_HU_RAT</th>\n",
       "    </tr>\n",
       "  </thead>\n",
       "  <tbody>\n",
       "    <tr>\n",
       "      <th>0</th>\n",
       "      <td>17031010100</td>\n",
       "      <td>1</td>\n",
       "      <td>Rogers Park</td>\n",
       "      <td>1.0</td>\n",
       "      <td>1.0</td>\n",
       "      <td>1.0</td>\n",
       "    </tr>\n",
       "    <tr>\n",
       "      <th>1</th>\n",
       "      <td>17031010201</td>\n",
       "      <td>1</td>\n",
       "      <td>Rogers Park</td>\n",
       "      <td>1.0</td>\n",
       "      <td>1.0</td>\n",
       "      <td>1.0</td>\n",
       "    </tr>\n",
       "  </tbody>\n",
       "</table>\n",
       "</div>"
      ],
      "text/plain": [
       "         TRACT  GEOID          CCA  TR_POP_RAT  TR_HH_RAT  TR_HU_RAT\n",
       "0  17031010100      1  Rogers Park         1.0        1.0        1.0\n",
       "1  17031010201      1  Rogers Park         1.0        1.0        1.0"
      ]
     },
     "execution_count": 9,
     "metadata": {},
     "output_type": "execute_result"
    }
   ],
   "source": [
    "# load cmap crosswalk\n",
    "crosswalk = pd.read_csv('../census-data/Crosswalk_TR_to_CCA_2020 (1).csv')\n",
    "crosswalk.head(2)"
   ]
  },
  {
   "cell_type": "code",
   "execution_count": 10,
   "id": "5ed6e06d-d58e-4a9d-a8d7-0933ed9b4e8e",
   "metadata": {},
   "outputs": [],
   "source": [
    "# left merge crosswalk with census data so duplicate keys have same census info\n",
    "merged = pd.merge(crosswalk, acs, left_on='TRACT', right_on='geoid_clean', how='left', indicator=True)"
   ]
  },
  {
   "cell_type": "code",
   "execution_count": 12,
   "id": "0f7a4cb7-c58f-4c7c-bf59-99adc49f0b90",
   "metadata": {},
   "outputs": [],
   "source": [
    "# multiply by population ratio\n",
    "merged['est_total'] = merged['total'] * merged['TR_POP_RAT']"
   ]
  },
  {
   "cell_type": "code",
   "execution_count": 13,
   "id": "64dcbc1b-3024-4a9f-bdbb-8a99ba1c6997",
   "metadata": {},
   "outputs": [],
   "source": [
    "# multiply est total by poverty rate\n",
    "merged['est_population_assessed_poverty'] = merged['pct_poverty'] * merged['est_total']"
   ]
  },
  {
   "cell_type": "code",
   "execution_count": 14,
   "id": "2ce600e4-916e-4fba-9e44-e07122938f5a",
   "metadata": {},
   "outputs": [
    {
     "data": {
      "text/html": [
       "<div>\n",
       "<style scoped>\n",
       "    .dataframe tbody tr th:only-of-type {\n",
       "        vertical-align: middle;\n",
       "    }\n",
       "\n",
       "    .dataframe tbody tr th {\n",
       "        vertical-align: top;\n",
       "    }\n",
       "\n",
       "    .dataframe thead th {\n",
       "        text-align: right;\n",
       "    }\n",
       "</style>\n",
       "<table border=\"1\" class=\"dataframe\">\n",
       "  <thead>\n",
       "    <tr style=\"text-align: right;\">\n",
       "      <th></th>\n",
       "      <th>CCA</th>\n",
       "      <th>est_total</th>\n",
       "      <th>est_population_assessed_poverty</th>\n",
       "    </tr>\n",
       "  </thead>\n",
       "  <tbody>\n",
       "    <tr>\n",
       "      <th>0</th>\n",
       "      <td>Albany Park</td>\n",
       "      <td>45159.000000</td>\n",
       "      <td>6149.000000</td>\n",
       "    </tr>\n",
       "    <tr>\n",
       "      <th>1</th>\n",
       "      <td>Archer Heights</td>\n",
       "      <td>13942.000000</td>\n",
       "      <td>1255.000000</td>\n",
       "    </tr>\n",
       "    <tr>\n",
       "      <th>2</th>\n",
       "      <td>Armour Square</td>\n",
       "      <td>14222.256914</td>\n",
       "      <td>3522.512496</td>\n",
       "    </tr>\n",
       "    <tr>\n",
       "      <th>3</th>\n",
       "      <td>Ashburn</td>\n",
       "      <td>41564.000000</td>\n",
       "      <td>6641.000000</td>\n",
       "    </tr>\n",
       "    <tr>\n",
       "      <th>4</th>\n",
       "      <td>Auburn Gresham</td>\n",
       "      <td>44985.000000</td>\n",
       "      <td>11209.000000</td>\n",
       "    </tr>\n",
       "    <tr>\n",
       "      <th>...</th>\n",
       "      <td>...</td>\n",
       "      <td>...</td>\n",
       "      <td>...</td>\n",
       "    </tr>\n",
       "    <tr>\n",
       "      <th>72</th>\n",
       "      <td>West Lawn</td>\n",
       "      <td>32419.000000</td>\n",
       "      <td>5058.000000</td>\n",
       "    </tr>\n",
       "    <tr>\n",
       "      <th>73</th>\n",
       "      <td>West Pullman</td>\n",
       "      <td>24433.000000</td>\n",
       "      <td>5991.000000</td>\n",
       "    </tr>\n",
       "    <tr>\n",
       "      <th>74</th>\n",
       "      <td>West Ridge</td>\n",
       "      <td>76949.000000</td>\n",
       "      <td>13417.000000</td>\n",
       "    </tr>\n",
       "    <tr>\n",
       "      <th>75</th>\n",
       "      <td>West Town</td>\n",
       "      <td>85878.297759</td>\n",
       "      <td>7664.249145</td>\n",
       "    </tr>\n",
       "    <tr>\n",
       "      <th>76</th>\n",
       "      <td>Woodlawn</td>\n",
       "      <td>22918.827605</td>\n",
       "      <td>7229.597381</td>\n",
       "    </tr>\n",
       "  </tbody>\n",
       "</table>\n",
       "<p>77 rows × 3 columns</p>\n",
       "</div>"
      ],
      "text/plain": [
       "               CCA     est_total  est_population_assessed_poverty\n",
       "0      Albany Park  45159.000000                      6149.000000\n",
       "1   Archer Heights  13942.000000                      1255.000000\n",
       "2    Armour Square  14222.256914                      3522.512496\n",
       "3          Ashburn  41564.000000                      6641.000000\n",
       "4   Auburn Gresham  44985.000000                     11209.000000\n",
       "..             ...           ...                              ...\n",
       "72       West Lawn  32419.000000                      5058.000000\n",
       "73    West Pullman  24433.000000                      5991.000000\n",
       "74      West Ridge  76949.000000                     13417.000000\n",
       "75       West Town  85878.297759                      7664.249145\n",
       "76        Woodlawn  22918.827605                      7229.597381\n",
       "\n",
       "[77 rows x 3 columns]"
      ]
     },
     "execution_count": 14,
     "metadata": {},
     "output_type": "execute_result"
    }
   ],
   "source": [
    "agg = merged.groupby('CCA')[['est_total',\n",
    "                             'est_population_assessed_poverty',]].sum().reset_index()\n",
    "\n",
    "agg"
   ]
  },
  {
   "cell_type": "code",
   "execution_count": 15,
   "id": "8a79c917-71ea-41d9-b5be-0dc4021f67bc",
   "metadata": {},
   "outputs": [],
   "source": [
    "# add pcts\n",
    "agg['pct_est_population_assessed_poverty'] = agg['est_population_assessed_poverty']/agg['est_total']"
   ]
  },
  {
   "cell_type": "code",
   "execution_count": 17,
   "id": "63202059-2abd-43f7-a2b3-22e01ca2d11d",
   "metadata": {},
   "outputs": [
    {
     "data": {
      "text/html": [
       "<div>\n",
       "<style scoped>\n",
       "    .dataframe tbody tr th:only-of-type {\n",
       "        vertical-align: middle;\n",
       "    }\n",
       "\n",
       "    .dataframe tbody tr th {\n",
       "        vertical-align: top;\n",
       "    }\n",
       "\n",
       "    .dataframe thead th {\n",
       "        text-align: right;\n",
       "    }\n",
       "</style>\n",
       "<table border=\"1\" class=\"dataframe\">\n",
       "  <thead>\n",
       "    <tr style=\"text-align: right;\">\n",
       "      <th></th>\n",
       "      <th>CCA</th>\n",
       "      <th>est_total</th>\n",
       "      <th>est_population_assessed_poverty</th>\n",
       "      <th>pct_est_population_assessed_poverty</th>\n",
       "    </tr>\n",
       "  </thead>\n",
       "  <tbody>\n",
       "    <tr>\n",
       "      <th>24</th>\n",
       "      <td>Forest Glen</td>\n",
       "      <td>19456.000000</td>\n",
       "      <td>844.000000</td>\n",
       "      <td>0.043380</td>\n",
       "    </tr>\n",
       "    <tr>\n",
       "      <th>50</th>\n",
       "      <td>North Center</td>\n",
       "      <td>35288.000000</td>\n",
       "      <td>1651.000000</td>\n",
       "      <td>0.046786</td>\n",
       "    </tr>\n",
       "    <tr>\n",
       "      <th>45</th>\n",
       "      <td>Mount Greenwood</td>\n",
       "      <td>18122.000000</td>\n",
       "      <td>1019.000000</td>\n",
       "      <td>0.056230</td>\n",
       "    </tr>\n",
       "    <tr>\n",
       "      <th>9</th>\n",
       "      <td>Beverly</td>\n",
       "      <td>19377.000000</td>\n",
       "      <td>1136.000000</td>\n",
       "      <td>0.058626</td>\n",
       "    </tr>\n",
       "    <tr>\n",
       "      <th>35</th>\n",
       "      <td>Jefferson Park</td>\n",
       "      <td>26548.000000</td>\n",
       "      <td>1598.000000</td>\n",
       "      <td>0.060193</td>\n",
       "    </tr>\n",
       "    <tr>\n",
       "      <th>...</th>\n",
       "      <td>...</td>\n",
       "      <td>...</td>\n",
       "      <td>...</td>\n",
       "      <td>...</td>\n",
       "    </tr>\n",
       "    <tr>\n",
       "      <th>55</th>\n",
       "      <td>Oakland</td>\n",
       "      <td>6935.000000</td>\n",
       "      <td>2446.000000</td>\n",
       "      <td>0.352704</td>\n",
       "    </tr>\n",
       "    <tr>\n",
       "      <th>19</th>\n",
       "      <td>East Garfield Park</td>\n",
       "      <td>20297.000000</td>\n",
       "      <td>7914.000000</td>\n",
       "      <td>0.389910</td>\n",
       "    </tr>\n",
       "    <tr>\n",
       "      <th>68</th>\n",
       "      <td>Washington Park</td>\n",
       "      <td>13034.000000</td>\n",
       "      <td>5964.000000</td>\n",
       "      <td>0.457573</td>\n",
       "    </tr>\n",
       "    <tr>\n",
       "      <th>25</th>\n",
       "      <td>Fuller Park</td>\n",
       "      <td>2233.848057</td>\n",
       "      <td>1182.817432</td>\n",
       "      <td>0.529498</td>\n",
       "    </tr>\n",
       "    <tr>\n",
       "      <th>58</th>\n",
       "      <td>Riverdale</td>\n",
       "      <td>7525.000000</td>\n",
       "      <td>4143.000000</td>\n",
       "      <td>0.550565</td>\n",
       "    </tr>\n",
       "  </tbody>\n",
       "</table>\n",
       "<p>77 rows × 4 columns</p>\n",
       "</div>"
      ],
      "text/plain": [
       "                   CCA     est_total  est_population_assessed_poverty  \\\n",
       "24         Forest Glen  19456.000000                       844.000000   \n",
       "50        North Center  35288.000000                      1651.000000   \n",
       "45     Mount Greenwood  18122.000000                      1019.000000   \n",
       "9              Beverly  19377.000000                      1136.000000   \n",
       "35      Jefferson Park  26548.000000                      1598.000000   \n",
       "..                 ...           ...                              ...   \n",
       "55             Oakland   6935.000000                      2446.000000   \n",
       "19  East Garfield Park  20297.000000                      7914.000000   \n",
       "68     Washington Park  13034.000000                      5964.000000   \n",
       "25         Fuller Park   2233.848057                      1182.817432   \n",
       "58           Riverdale   7525.000000                      4143.000000   \n",
       "\n",
       "    pct_est_population_assessed_poverty  \n",
       "24                             0.043380  \n",
       "50                             0.046786  \n",
       "45                             0.056230  \n",
       "9                              0.058626  \n",
       "35                             0.060193  \n",
       "..                                  ...  \n",
       "55                             0.352704  \n",
       "19                             0.389910  \n",
       "68                             0.457573  \n",
       "25                             0.529498  \n",
       "58                             0.550565  \n",
       "\n",
       "[77 rows x 4 columns]"
      ]
     },
     "execution_count": 17,
     "metadata": {},
     "output_type": "execute_result"
    }
   ],
   "source": [
    "agg.sort_values('pct_est_population_assessed_poverty')"
   ]
  },
  {
   "cell_type": "code",
   "execution_count": 18,
   "id": "4a68a81d-6150-41a3-b0ac-1720cda9ea84",
   "metadata": {},
   "outputs": [],
   "source": [
    "agg.to_csv('../processed/chicago_poverty_agg_community.csv', index=False)"
   ]
  },
  {
   "cell_type": "code",
   "execution_count": 19,
   "id": "8c85908f-7b5d-4c34-babc-4cf483844ee6",
   "metadata": {},
   "outputs": [
    {
     "data": {
      "text/plain": [
       "np.float64(2656605.1229302436)"
      ]
     },
     "execution_count": 19,
     "metadata": {},
     "output_type": "execute_result"
    }
   ],
   "source": [
    "# check\n",
    "# should equal close to 2,707,648 \n",
    "agg['est_total'].sum()"
   ]
  },
  {
   "cell_type": "code",
   "execution_count": 20,
   "id": "a9d160e4-e084-4f9d-b8e5-7680bf35f3cb",
   "metadata": {},
   "outputs": [
    {
     "data": {
      "text/plain": [
       "np.float64(447032.61700288067)"
      ]
     },
     "execution_count": 20,
     "metadata": {},
     "output_type": "execute_result"
    }
   ],
   "source": [
    "# check\n",
    "# should equal close to 447,143\n",
    "agg['est_population_assessed_poverty'].sum()"
   ]
  },
  {
   "cell_type": "code",
   "execution_count": null,
   "id": "3fff5104-22dd-4b6c-a8b3-0dbc000cd69c",
   "metadata": {},
   "outputs": [],
   "source": []
  }
 ],
 "metadata": {
  "kernelspec": {
   "display_name": "Python 3 (ipykernel)",
   "language": "python",
   "name": "python3"
  },
  "language_info": {
   "codemirror_mode": {
    "name": "ipython",
    "version": 3
   },
   "file_extension": ".py",
   "mimetype": "text/x-python",
   "name": "python",
   "nbconvert_exporter": "python",
   "pygments_lexer": "ipython3",
   "version": "3.9.6"
  }
 },
 "nbformat": 4,
 "nbformat_minor": 5
}
